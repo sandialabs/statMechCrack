{
 "cells": [
  {
   "cell_type": "markdown",
   "metadata": {},
   "source": [
    "# Example Notebook 1\n",
    "\n",
    "Note that the above title becomes the `toctree` caption, while the filename is what `index.rst` looks for.\n",
    "Also note that if the output is cleared before pushing the notebook to the repository, the pipeline will execute the notebook and generate the output during the documentation build process. This a good way to ensure the notebooks are up-to-date with the source code."
   ]
  },
  {
   "cell_type": "code",
   "execution_count": null,
   "metadata": {},
   "outputs": [],
   "source": [
    "import numpy as np\n",
    "import matplotlib.pyplot as plt\n",
    "from statmechcrack import CrackIsometric\n",
    "v = np.linspace(1, 11, 33)\n",
    "_ = plt.figure()\n",
    "for N in [5, 10, 25, 100]:\n",
    "    model = CrackIsometric(N=N)\n",
    "    beta_A_0 = model.beta_A_0_isometric(v, [1, 1])\n",
    "    _ = plt.plot(v - 1, N**3/3/model.kappa*beta_A_0, label='$N=$'+str(N))\n",
    "_ = plt.plot(v - 1, (v - 1)**2/2, 'k--', label='limit')\n",
    "_ = plt.xlabel(r'$\\Delta v$')\n",
    "_ = plt.ylabel(r'$(N^3/3\\kappa)\\beta\\Delta A_0$')\n",
    "_ = plt.legend()\n",
    "plt.show()"
   ]
  }
 ],
 "metadata": {
  "kernelspec": {
   "display_name": "Python 3.9.9 64-bit",
   "language": "python",
   "name": "python3"
  },
  "language_info": {
   "codemirror_mode": {
    "name": "ipython",
    "version": 3
   },
   "file_extension": ".py",
   "mimetype": "text/x-python",
   "name": "python",
   "nbconvert_exporter": "python",
   "pygments_lexer": "ipython3",
   "version": "3.9.9"
  },
  "vscode": {
   "interpreter": {
    "hash": "29648422c0d902cf9c24b20050e753f73190aa38c818f5e77c552519555ba69b"
   }
  }
 },
 "nbformat": 4,
 "nbformat_minor": 4
}
