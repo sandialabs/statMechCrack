{
 "cells": [
  {
   "cell_type": "markdown",
   "metadata": {},
   "source": [
    "# Crack growth rate validation\n",
    "\n",
    "This example demonstrates how to compute the rate of advancing the crack using the asymptotic approach, and compares with Monte Carlo calculations."
   ]
  },
  {
   "cell_type": "markdown",
   "metadata": {},
   "source": [
    "## Isometric ensemble\n",
    "\n",
    "This is first done in the isometric thermodynamic ensemble. The crack growth rate will be computed for a set of increasing nondimensional bond energies:"
   ]
  },
  {
   "cell_type": "code",
   "execution_count": null,
   "metadata": {},
   "outputs": [],
   "source": [
    "varepsilons = [10, 25, 100, 1000]"
   ]
  },
  {
   "cell_type": "markdown",
   "metadata": {},
   "source": [
    "Now the rate (relative to the initial rate) is computed as a function of the nondimensional end separation in a loop for each model. The default calculation approach is asymptotic:"
   ]
  },
  {
   "cell_type": "code",
   "execution_count": null,
   "metadata": {},
   "outputs": [],
   "source": [
    "import numpy as np\n",
    "from statmechcrack import Crack\n",
    "\n",
    "v = np.linspace(1, 11, 33)\n",
    "k_asymptotic = np.zeros((len(v), len(varepsilons)))\n",
    "for i, varepsilon in enumerate(varepsilons):\n",
    "    model = Crack(varepsilon=varepsilon)\n",
    "    k_asymptotic[:, i] = model.k(v, ensemble='isometric')"
   ]
  },
  {
   "cell_type": "markdown",
   "metadata": {},
   "source": [
    "Monte Carlo is another calculation approach and does not make approximations, but takes a considerable amount of time. These calculations have already been performed, and the results archived in the local data folder. The steps to obtain these results are commented below, and the results are simply loaded instead:"
   ]
  },
  {
   "cell_type": "code",
   "execution_count": null,
   "metadata": {},
   "outputs": [],
   "source": [
    "k_monte_carlo = np.zeros((len(v), len(varepsilons)))\n",
    "for i, varepsilon in enumerate(varepsilons):\n",
    "#     model = Crack(varepsilon=varepsilon)\n",
    "#     k_monte_carlo[:, i] = model.k(\n",
    "#         v, ensemble='isometric', approach='monte carlo',\n",
    "#         num_processes=32, num_samples=int(3.125e7))\n",
    "    k_monte_carlo[:, i] = np.load(\n",
    "        'data/k_monte_carlo_isometric_varepsilon_'\n",
    "        + str(varepsilon) + '.npy')[2]"
   ]
  },
  {
   "cell_type": "markdown",
   "metadata": {},
   "source": [
    "The results can now be plotted together:"
   ]
  },
  {
   "cell_type": "code",
   "execution_count": null,
   "metadata": {},
   "outputs": [],
   "source": [
    "import matplotlib.pyplot as plt\n",
    "\n",
    "_ = plt.semilogy(v, k_asymptotic)\n",
    "_ = plt.semilogy(v, k_monte_carlo, 'k--')"
   ]
  },
  {
   "cell_type": "markdown",
   "metadata": {},
   "source": [
    "The relative L2 error can be plotted across more nondimensional energies:"
   ]
  },
  {
   "cell_type": "code",
   "execution_count": null,
   "metadata": {},
   "outputs": [],
   "source": [
    "varepsilons = [10, 15, 25, 40, 65, 100, 160, 250, 400, 630, 1000, 1600, 2500]\n",
    "relative_error = np.zeros(len(varepsilons))\n",
    "for i, varepsilon in enumerate(varepsilons):\n",
    "    k_monte_carlo = np.load(\n",
    "        'data/k_monte_carlo_isometric_varepsilon_'\n",
    "        + str(varepsilon) + '.npy')[2]\n",
    "    v = np.load(\n",
    "        'data/k_monte_carlo_isometric_varepsilon_'\n",
    "        + str(varepsilon) + '.npy')[0]\n",
    "    k_asymptotic = Crack(varepsilon=varepsilon).k(v, ensemble='isometric')\n",
    "    _ = plt.semilogy(v, k_asymptotic)\n",
    "    _ = plt.semilogy(v, k_monte_carlo, 'k--')\n",
    "    relative_error[i] = np.sqrt(\n",
    "        np.trapz((np.log(k_asymptotic/k_monte_carlo))**2, x=v) /\n",
    "        np.trapz(np.log(k_monte_carlo)**2, x=v))\n",
    "plt.show()\n",
    "_ = plt.loglog(varepsilons, relative_error, 'o-')"
   ]
  },
  {
   "cell_type": "markdown",
   "metadata": {},
   "source": [
    "## Isotensional ensemble"
   ]
  },
  {
   "cell_type": "code",
   "execution_count": null,
   "metadata": {},
   "outputs": [],
   "source": [
    "varepsilons = [10, 25, 100, 1000]\n",
    "v = np.linspace(1, 11, 33)\n",
    "p = np.zeros((len(v), len(varepsilons)))\n",
    "k_asymptotic = np.zeros((len(v), len(varepsilons)))\n",
    "k_monte_carlo = np.zeros((len(v), len(varepsilons)))\n",
    "for i, varepsilon in enumerate(varepsilons):\n",
    "    model = Crack(varepsilon=varepsilon)\n",
    "    p[:, i] = model.p(v, ensemble='isometric')\n",
    "    k_asymptotic[:, i] = model.k(p[:, i], ensemble='isotensional')\n",
    "#     model = Crack(varepsilon=varepsilon)\n",
    "#     k_monte_carlo[:, i] = model.k(\n",
    "#         v, ensemble='isotensional', approach='monte carlo',\n",
    "#         num_processes=32, num_samples=int(3.125e7))\n",
    "    k_monte_carlo[:, i] = np.load(\n",
    "        'data/k_monte_carlo_isotensional_varepsilon_'\n",
    "        + str(varepsilon) + '.npy')[2]\n",
    "_ = plt.semilogy(p, k_asymptotic)\n",
    "_ = plt.semilogy(p, k_monte_carlo, 'k--')"
   ]
  },
  {
   "cell_type": "code",
   "execution_count": null,
   "metadata": {},
   "outputs": [],
   "source": [
    "varepsilons = [10, 15, 25, 40, 65, 100, 160, 250, 400, 630, 1000, 1600, 2500]\n",
    "relative_error = np.zeros(len(varepsilons))\n",
    "for i, varepsilon in enumerate(varepsilons):\n",
    "    k_monte_carlo = np.load(\n",
    "        'data/k_monte_carlo_isotensional_varepsilon_'\n",
    "        + str(varepsilon) + '.npy')[2]\n",
    "    p = np.load(\n",
    "        'data/k_monte_carlo_isotensional_varepsilon_'\n",
    "        + str(varepsilon) + '.npy')[0]\n",
    "    k_asymptotic = Crack(varepsilon=varepsilon).k(p, ensemble='isotensional')\n",
    "    _ = plt.semilogy(p, k_asymptotic)\n",
    "    _ = plt.semilogy(p, k_monte_carlo, 'k--')\n",
    "    relative_error[i] = np.sqrt(\n",
    "        np.trapz((np.log(k_asymptotic/k_monte_carlo))**2, x=v) /\n",
    "        np.trapz(np.log(k_monte_carlo)**2, x=v))\n",
    "plt.show()\n",
    "_ = plt.loglog(varepsilons, relative_error, 'o-')"
   ]
  }
 ],
 "metadata": {
  "kernelspec": {
   "display_name": "Python 3 (ipykernel)",
   "language": "python",
   "name": "python3"
  },
  "language_info": {
   "codemirror_mode": {
    "name": "ipython",
    "version": 3
   },
   "file_extension": ".py",
   "mimetype": "text/x-python",
   "name": "python",
   "nbconvert_exporter": "python",
   "pygments_lexer": "ipython3",
   "version": "3.9.5"
  },
  "vscode": {
   "interpreter": {
    "hash": "29648422c0d902cf9c24b20050e753f73190aa38c818f5e77c552519555ba69b"
   }
  }
 },
 "nbformat": 4,
 "nbformat_minor": 4
}
